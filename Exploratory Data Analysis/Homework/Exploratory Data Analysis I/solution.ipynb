{
 "cells": [
  {
   "cell_type": "code",
   "execution_count": 1,
   "id": "07daeec9",
   "metadata": {},
   "outputs": [],
   "source": [
    "import pandas as pd"
   ]
  },
  {
   "cell_type": "code",
   "execution_count": 5,
   "id": "94593619",
   "metadata": {},
   "outputs": [],
   "source": [
    "df = pd.read_csv('../../../data/ant_joint_locations.zip', comment='#')"
   ]
  },
  {
   "cell_type": "code",
   "execution_count": 15,
   "id": "4da683b7",
   "metadata": {},
   "outputs": [],
   "source": [
    "df['x (mm)'] = 0.8 * df['x_coord']\n",
    "df['y (mm)'] = 0.8 * df['y_coord']\n",
    "df['time (sec)'] = df['frame'] / 28"
   ]
  },
  {
   "cell_type": "code",
   "execution_count": 16,
   "id": "863a1335",
   "metadata": {},
   "outputs": [
    {
     "data": {
      "text/html": [
       "<div>\n",
       "<style scoped>\n",
       "    .dataframe tbody tr th:only-of-type {\n",
       "        vertical-align: middle;\n",
       "    }\n",
       "\n",
       "    .dataframe tbody tr th {\n",
       "        vertical-align: top;\n",
       "    }\n",
       "\n",
       "    .dataframe thead th {\n",
       "        text-align: right;\n",
       "    }\n",
       "</style>\n",
       "<table border=\"1\" class=\"dataframe\">\n",
       "  <thead>\n",
       "    <tr style=\"text-align: right;\">\n",
       "      <th></th>\n",
       "      <th>frame</th>\n",
       "      <th>beetle_treatment</th>\n",
       "      <th>ID</th>\n",
       "      <th>bodypart</th>\n",
       "      <th>x_coord</th>\n",
       "      <th>y_coord</th>\n",
       "      <th>likelihood</th>\n",
       "      <th>x (mm)</th>\n",
       "      <th>y (mm)</th>\n",
       "      <th>time (sec)</th>\n",
       "    </tr>\n",
       "  </thead>\n",
       "  <tbody>\n",
       "    <tr>\n",
       "      <th>0</th>\n",
       "      <td>0</td>\n",
       "      <td>dalotia</td>\n",
       "      <td>0</td>\n",
       "      <td>head</td>\n",
       "      <td>73.086</td>\n",
       "      <td>193.835</td>\n",
       "      <td>1.0</td>\n",
       "      <td>58.4688</td>\n",
       "      <td>155.0680</td>\n",
       "      <td>0.000000</td>\n",
       "    </tr>\n",
       "    <tr>\n",
       "      <th>1</th>\n",
       "      <td>1</td>\n",
       "      <td>dalotia</td>\n",
       "      <td>0</td>\n",
       "      <td>head</td>\n",
       "      <td>73.730</td>\n",
       "      <td>194.385</td>\n",
       "      <td>1.0</td>\n",
       "      <td>58.9840</td>\n",
       "      <td>155.5080</td>\n",
       "      <td>0.035714</td>\n",
       "    </tr>\n",
       "    <tr>\n",
       "      <th>2</th>\n",
       "      <td>2</td>\n",
       "      <td>dalotia</td>\n",
       "      <td>0</td>\n",
       "      <td>head</td>\n",
       "      <td>75.673</td>\n",
       "      <td>195.182</td>\n",
       "      <td>1.0</td>\n",
       "      <td>60.5384</td>\n",
       "      <td>156.1456</td>\n",
       "      <td>0.071429</td>\n",
       "    </tr>\n",
       "    <tr>\n",
       "      <th>3</th>\n",
       "      <td>3</td>\n",
       "      <td>dalotia</td>\n",
       "      <td>0</td>\n",
       "      <td>head</td>\n",
       "      <td>77.319</td>\n",
       "      <td>196.582</td>\n",
       "      <td>1.0</td>\n",
       "      <td>61.8552</td>\n",
       "      <td>157.2656</td>\n",
       "      <td>0.107143</td>\n",
       "    </tr>\n",
       "    <tr>\n",
       "      <th>4</th>\n",
       "      <td>4</td>\n",
       "      <td>dalotia</td>\n",
       "      <td>0</td>\n",
       "      <td>head</td>\n",
       "      <td>78.128</td>\n",
       "      <td>197.891</td>\n",
       "      <td>1.0</td>\n",
       "      <td>62.5024</td>\n",
       "      <td>158.3128</td>\n",
       "      <td>0.142857</td>\n",
       "    </tr>\n",
       "  </tbody>\n",
       "</table>\n",
       "</div>"
      ],
      "text/plain": [
       "   frame beetle_treatment  ID bodypart  x_coord  y_coord  likelihood   x (mm)  \\\n",
       "0      0          dalotia   0     head   73.086  193.835         1.0  58.4688   \n",
       "1      1          dalotia   0     head   73.730  194.385         1.0  58.9840   \n",
       "2      2          dalotia   0     head   75.673  195.182         1.0  60.5384   \n",
       "3      3          dalotia   0     head   77.319  196.582         1.0  61.8552   \n",
       "4      4          dalotia   0     head   78.128  197.891         1.0  62.5024   \n",
       "\n",
       "     y (mm)  time (sec)  \n",
       "0  155.0680    0.000000  \n",
       "1  155.5080    0.035714  \n",
       "2  156.1456    0.071429  \n",
       "3  157.2656    0.107143  \n",
       "4  158.3128    0.142857  "
      ]
     },
     "execution_count": 16,
     "metadata": {},
     "output_type": "execute_result"
    }
   ],
   "source": [
    "df.head()"
   ]
  },
  {
   "cell_type": "code",
   "execution_count": 27,
   "id": "4517bada",
   "metadata": {},
   "outputs": [
    {
     "name": "stdout",
     "output_type": "stream",
     "text": [
      "21.3 ms ± 32 µs per loop (mean ± std. dev. of 7 runs, 10 loops each)\n",
      "21.3 ms ± 49 µs per loop (mean ± std. dev. of 7 runs, 10 loops each)\n"
     ]
    }
   ],
   "source": [
    "%timeit df.loc[df['bodypart'] == 'thorax', :]\n",
    "%timeit df[df['bodypart'] == 'thorax']"
   ]
  },
  {
   "cell_type": "code",
   "execution_count": null,
   "id": "da5a3521",
   "metadata": {},
   "outputs": [],
   "source": []
  }
 ],
 "metadata": {
  "kernelspec": {
   "display_name": "Python 3 (ipykernel)",
   "language": "python",
   "name": "python3"
  },
  "language_info": {
   "codemirror_mode": {
    "name": "ipython",
    "version": 3
   },
   "file_extension": ".py",
   "mimetype": "text/x-python",
   "name": "python",
   "nbconvert_exporter": "python",
   "pygments_lexer": "ipython3",
   "version": "3.10.3"
  }
 },
 "nbformat": 4,
 "nbformat_minor": 5
}
