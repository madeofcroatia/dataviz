{
 "cells": [
  {
   "cell_type": "code",
   "execution_count": 1,
   "id": "c5bf7a99",
   "metadata": {},
   "outputs": [],
   "source": [
    "import numpy as np\n",
    "import scipy.special"
   ]
  },
  {
   "cell_type": "code",
   "execution_count": 2,
   "id": "518f685c",
   "metadata": {},
   "outputs": [
    {
     "ename": "TypeError",
     "evalue": "array() missing required argument 'object' (pos 0)",
     "output_type": "error",
     "traceback": [
      "\u001b[0;31m---------------------------------------------------------------------------\u001b[0m",
      "\u001b[0;31mTypeError\u001b[0m                                 Traceback (most recent call last)",
      "Input \u001b[0;32mIn [2]\u001b[0m, in \u001b[0;36m<cell line: 4>\u001b[0;34m()\u001b[0m\n\u001b[1;32m      1\u001b[0m \u001b[38;5;66;03m# The central part of numpy and scientific programming in python in general are numpy\u001b[39;00m\n\u001b[1;32m      2\u001b[0m \u001b[38;5;66;03m# arrays. Let us make one and see how they behave! In other words, let us explore into it\u001b[39;00m\n\u001b[0;32m----> 4\u001b[0m \u001b[43mnp\u001b[49m\u001b[38;5;241;43m.\u001b[39;49m\u001b[43marray\u001b[49m\u001b[43m(\u001b[49m\u001b[43m)\u001b[49m\n",
      "\u001b[0;31mTypeError\u001b[0m: array() missing required argument 'object' (pos 0)"
     ]
    }
   ],
   "source": [
    "# The central part of numpy and scientific programming in python in general are numpy\n",
    "# arrays. Let us make one and see how they behave! In other words, let us explore into it\n",
    "\n",
    "np.array() # Unlike list and tuple, and set, and other python data structures, we cannot\n",
    "           # initialize a numpy array empty! We must put something into it first!"
   ]
  },
  {
   "cell_type": "code",
   "execution_count": 4,
   "id": "a0333fb7",
   "metadata": {},
   "outputs": [
    {
     "data": {
      "text/plain": [
       "array([1, 2, 3, 4])"
      ]
     },
     "metadata": {},
     "output_type": "display_data"
    }
   ],
   "source": [
    "array = np.array([1, 2, 3, 4]) # we can make arrays out of lists and this works just like\n",
    "                               # with any other data collections in python\n",
    "    \n",
    "display(array) # The list has been converted and is explicitly shown as an array"
   ]
  },
  {
   "cell_type": "code",
   "execution_count": 8,
   "id": "8aae0806",
   "metadata": {},
   "outputs": [
    {
     "data": {
      "text/plain": [
       "dtype('int64')"
      ]
     },
     "metadata": {},
     "output_type": "display_data"
    }
   ],
   "source": [
    "display(array.dtype) # get the datatype of the array"
   ]
  },
  {
   "cell_type": "code",
   "execution_count": 9,
   "id": "48028f72",
   "metadata": {},
   "outputs": [
    {
     "data": {
      "text/plain": [
       "(4,)"
      ]
     },
     "metadata": {},
     "output_type": "display_data"
    }
   ],
   "source": [
    "display(array.shape) # get the shape of the array"
   ]
  },
  {
   "cell_type": "code",
   "execution_count": 15,
   "id": "6055af63",
   "metadata": {},
   "outputs": [
    {
     "data": {
      "text/plain": [
       "array([1., 2., 3., 4.])"
      ]
     },
     "metadata": {},
     "output_type": "display_data"
    },
    {
     "data": {
      "text/plain": [
       "dtype('int64')"
      ]
     },
     "metadata": {},
     "output_type": "display_data"
    }
   ],
   "source": [
    "display(array.astype(float)) # create a copy of the array with changing the datatype of\n",
    "                             # every element into float. note that this does not change\n",
    "                             # the array itself!\n",
    "display(array.dtype)"
   ]
  },
  {
   "cell_type": "code",
   "execution_count": 17,
   "id": "ecae55ad",
   "metadata": {},
   "outputs": [
    {
     "data": {
      "text/plain": [
       "4"
      ]
     },
     "metadata": {},
     "output_type": "display_data"
    },
    {
     "data": {
      "text/plain": [
       "1"
      ]
     },
     "metadata": {},
     "output_type": "display_data"
    },
    {
     "data": {
      "text/plain": [
       "10"
      ]
     },
     "metadata": {},
     "output_type": "display_data"
    },
    {
     "data": {
      "text/plain": [
       "2.5"
      ]
     },
     "metadata": {},
     "output_type": "display_data"
    },
    {
     "data": {
      "text/plain": [
       "1.118033988749895"
      ]
     },
     "metadata": {},
     "output_type": "display_data"
    }
   ],
   "source": [
    "# many statistical functions can be called as methods on numpy arrays!\n",
    "\n",
    "display(array.max())\n",
    "display(array.min())\n",
    "display(array.sum())\n",
    "display(array.mean())\n",
    "display(array.std())"
   ]
  },
  {
   "cell_type": "code",
   "execution_count": 18,
   "id": "e742c655",
   "metadata": {},
   "outputs": [
    {
     "data": {
      "text/plain": [
       "4"
      ]
     },
     "metadata": {},
     "output_type": "display_data"
    },
    {
     "data": {
      "text/plain": [
       "1"
      ]
     },
     "metadata": {},
     "output_type": "display_data"
    },
    {
     "data": {
      "text/plain": [
       "10"
      ]
     },
     "metadata": {},
     "output_type": "display_data"
    },
    {
     "data": {
      "text/plain": [
       "2.5"
      ]
     },
     "metadata": {},
     "output_type": "display_data"
    },
    {
     "data": {
      "text/plain": [
       "1.118033988749895"
      ]
     },
     "metadata": {},
     "output_type": "display_data"
    }
   ],
   "source": [
    "# numpy arrays most importantly can be passed to numpy functions as arguments!\n",
    "\n",
    "display(np.max(array))\n",
    "display(np.min(array))\n",
    "display(np.sum(array))\n",
    "display(np.mean(array))\n",
    "display(np.std(array))"
   ]
  },
  {
   "cell_type": "code",
   "execution_count": 31,
   "id": "57e41fb0",
   "metadata": {},
   "outputs": [
    {
     "data": {
      "text/plain": [
       "array([0., 0., 0., 0., 0., 0., 0., 0., 0., 0.])"
      ]
     },
     "metadata": {},
     "output_type": "display_data"
    },
    {
     "data": {
      "text/plain": [
       "array([1., 1., 1., 1., 1., 1., 1., 1., 1., 1.])"
      ]
     },
     "metadata": {},
     "output_type": "display_data"
    },
    {
     "data": {
      "text/plain": [
       "array([1., 1., 1., 1., 1., 1., 1., 1., 1., 1.])"
      ]
     },
     "metadata": {},
     "output_type": "display_data"
    },
    {
     "data": {
      "text/plain": [
       "(2, 2)"
      ]
     },
     "metadata": {},
     "output_type": "display_data"
    },
    {
     "data": {
      "text/plain": [
       "array([[0, 0],\n",
       "       [0, 0]])"
      ]
     },
     "metadata": {},
     "output_type": "display_data"
    },
    {
     "data": {
      "text/plain": [
       "array([0.43211121, 0.17421526, 0.17094369, 0.82763225, 0.58717126,\n",
       "       0.45935375, 0.82268476, 0.82154811, 0.30712025, 0.20089438,\n",
       "       0.40323246, 0.94788933, 0.67754443, 0.6089751 , 0.67236337,\n",
       "       0.00798261, 0.33655992, 0.35727233, 0.48605999, 0.87828242,\n",
       "       0.75490869, 0.63046494, 0.37648369, 0.59016159])"
      ]
     },
     "metadata": {},
     "output_type": "display_data"
    }
   ],
   "source": [
    "n = 10\n",
    "# there are other ways of initializing numpy arrays.\n",
    "\n",
    "zeros = np.zeros(n) # initialize an array of size n filled with zeros\n",
    "display(zeros)\n",
    "\n",
    "ones = np.ones(n) # initialize an array of size n filled with ones\n",
    "display(ones)\n",
    "\n",
    "empty = np.empty(n) # creates an array of size n with values uninitialized\n",
    "display(empty)\n",
    "\n",
    "array = np.array([[1, 2], [3, 4]])\n",
    "display(array.shape)\n",
    "two_by_two_zeros = np.zeros_like(array) # creates an array in the same shape as 'array' and\n",
    "                                        # fills its entries with zeros\n",
    "display(two_by_two_zeros)\n",
    "\n",
    "\n",
    "np.random.seed(103)\n",
    "rand_array = np.random.random(24) # makes an array in the specified shape filled with\n",
    "                                  # random entries between 0 and 1\n",
    "\n",
    "display(rand_array)"
   ]
  },
  {
   "cell_type": "code",
   "execution_count": 32,
   "id": "1e756efe",
   "metadata": {},
   "outputs": [
    {
     "data": {
      "text/plain": [
       "array([0.59016159, 0.37648369, 0.63046494, 0.75490869, 0.87828242,\n",
       "       0.48605999, 0.35727233, 0.33655992, 0.00798261, 0.67236337,\n",
       "       0.6089751 , 0.67754443, 0.94788933, 0.40323246, 0.20089438,\n",
       "       0.30712025, 0.82154811, 0.82268476, 0.45935375, 0.58717126,\n",
       "       0.82763225, 0.17094369, 0.17421526, 0.43211121])"
      ]
     },
     "metadata": {},
     "output_type": "display_data"
    },
    {
     "data": {
      "text/plain": [
       "array([0.82763225, 0.30712025, 0.6089751 , 0.48605999, 0.59016159])"
      ]
     },
     "metadata": {},
     "output_type": "display_data"
    },
    {
     "data": {
      "text/plain": [
       "array([0.40323246, 0.94788933, 0.67754443, 0.6089751 , 0.67236337,\n",
       "       0.00798261, 0.33655992, 0.35727233, 0.48605999, 0.87828242,\n",
       "       0.75490869])"
      ]
     },
     "metadata": {},
     "output_type": "display_data"
    }
   ],
   "source": [
    "# Slicing in numpy is almost identical in its use in lists and tuples\n",
    "\n",
    "display(rand_array[::-1]) # Every -1'st element, meaning the reversal\n",
    "\n",
    "display(rand_array[3::5]) # Every 5th element starting at index 3\n",
    "\n",
    "display(rand_array[10:21]) # Entries 10 to 20 inclusive"
   ]
  },
  {
   "cell_type": "code",
   "execution_count": 41,
   "id": "603c3c66",
   "metadata": {},
   "outputs": [
    {
     "name": "stdout",
     "output_type": "stream",
     "text": [
      "The array [1 2 3 4 5], and the slice [2 3] before any modifications.\n",
      "Array after setting array_slice[0] = 55:  [ 1 55  3  4  5]\n",
      "Slice after setting array[2] = -55:  [ 55 -55]\n"
     ]
    }
   ],
   "source": [
    "# Numpy array slices are NOT copies like tuple slices or list slices.\n",
    "# They are views, references to the original array. So, if you change them that will also\n",
    "# affect the original array, and changing the original array will also affect the names\n",
    "# that refer to slices.\n",
    "\n",
    "my_list = [1, 2, 3, 4, 5]\n",
    "array = np.array(my_list)\n",
    "\n",
    "array_slice = array[1:3]\n",
    "print(f'The array {array}, and the slice {array_slice} before any modifications.')\n",
    "array_slice[0] = 55\n",
    "\n",
    "print('Array after setting array_slice[0] = 55: ', array)\n",
    "array[2] = -55\n",
    "print('Slice after setting array[2] = -55: ', array_slice)"
   ]
  },
  {
   "cell_type": "code",
   "execution_count": 43,
   "id": "e7fad4ea",
   "metadata": {},
   "outputs": [],
   "source": [
    "# In numpy, when we need a copy, we need to use numpy.copy:\n",
    "\n",
    "array = np.array((1, 2, 3))\n",
    "new_array = np.copy(array)"
   ]
  },
  {
   "cell_type": "code",
   "execution_count": 46,
   "id": "d465fa62",
   "metadata": {},
   "outputs": [
    {
     "data": {
      "text/plain": [
       "array([0.17421526, 0.87828242, 0.82268476])"
      ]
     },
     "metadata": {},
     "output_type": "display_data"
    }
   ],
   "source": [
    "# Fancy indexing is allowed in numpy!\n",
    "\n",
    "display(rand_array[[1, 19, 6]]) # give us a numpy array that consists of elements of \n",
    "                                # rand_array with indexes 1, 19, and 6. This could also be\n",
    "                                # done with numpy arrays instead of lists"
   ]
  },
  {
   "cell_type": "code",
   "execution_count": 47,
   "id": "4abb87ce",
   "metadata": {},
   "outputs": [
    {
     "data": {
      "text/plain": [
       "array([False, False, False,  True, False, False,  True,  True, False,\n",
       "       False, False,  True, False, False, False, False, False, False,\n",
       "       False,  True,  True, False, False, False])"
      ]
     },
     "execution_count": 47,
     "metadata": {},
     "output_type": "execute_result"
    }
   ],
   "source": [
    "# We can also use Boolean indexing here, which is an incredibly powerful tool in data\n",
    "# analysis.\n",
    "\n",
    "rand_array > 0.7 # This gives us the Boolean array such that the value of i-th entry is\n",
    "                 # True if and only if rand_array[i] > 0.7 and False otherwise"
   ]
  },
  {
   "cell_type": "code",
   "execution_count": 48,
   "id": "f04e1d81",
   "metadata": {},
   "outputs": [
    {
     "data": {
      "text/plain": [
       "array([0.82763225, 0.82268476, 0.82154811, 0.94788933, 0.87828242,\n",
       "       0.75490869])"
      ]
     },
     "execution_count": 48,
     "metadata": {},
     "output_type": "execute_result"
    }
   ],
   "source": [
    "# If we want to gain an array of values of rand_array that are greater than 0.7\n",
    "# (or any other boolean operation), we must put that into the indexing:\n",
    "\n",
    "rand_array[rand_array > 0.7]"
   ]
  },
  {
   "cell_type": "code",
   "execution_count": 54,
   "id": "eb697a19",
   "metadata": {},
   "outputs": [
    {
     "data": {
      "text/plain": [
       "(array([ 3,  6,  7, 11, 19, 20]),)"
      ]
     },
     "execution_count": 54,
     "metadata": {},
     "output_type": "execute_result"
    }
   ],
   "source": [
    "# To get the indices of the True elements of a Boolean array, there is a nice numpy method\n",
    "# numpy.where that accepts a Boolean array and returns an array of indices where the value\n",
    "# is True.\n",
    "\n",
    "np.where(rand_array > 0.7)"
   ]
  },
  {
   "cell_type": "code",
   "execution_count": 78,
   "id": "e2ec8b24",
   "metadata": {},
   "outputs": [
    {
     "data": {
      "text/plain": [
       "array([5.        , 3.        , 2.33333333, 2.        ])"
      ]
     },
     "metadata": {},
     "output_type": "display_data"
    },
    {
     "data": {
      "text/plain": [
       "array([-1.72844482, -0.69686105, -0.68377474, -3.31052899, -2.34868504,\n",
       "       -1.83741498, -3.29073903, -3.28619244, -1.22848101, -0.8035775 ,\n",
       "       -1.61292983, -3.79155733, -2.71017772, -2.43590042, -2.68945347,\n",
       "       -0.03193044, -1.34623966, -1.42908934, -1.94423995, -3.51312967,\n",
       "       -3.01963476, -2.52185978, -1.50593474, -2.36064638])"
      ]
     },
     "metadata": {},
     "output_type": "display_data"
    },
    {
     "data": {
      "text/plain": [
       "array([1.86720094e-01, 3.03509579e-02, 2.92217435e-02, 6.84975137e-01,\n",
       "       3.44770089e-01, 2.11005864e-01, 6.76810211e-01, 6.74941298e-01,\n",
       "       9.43228489e-02, 4.03585502e-02, 1.62596415e-01, 8.98494186e-01,\n",
       "       4.59066455e-01, 3.70850677e-01, 4.52072499e-01, 6.37220801e-05,\n",
       "       1.13272577e-01, 1.27643521e-01, 2.36254311e-01, 7.71380007e-01,\n",
       "       5.69887131e-01, 3.97486046e-01, 1.41739966e-01, 3.48290708e-01])"
      ]
     },
     "metadata": {},
     "output_type": "display_data"
    },
    {
     "data": {
      "text/plain": [
       "3.443080015503284"
      ]
     },
     "metadata": {},
     "output_type": "display_data"
    },
    {
     "data": {
      "text/plain": [
       "array([ 2.71828183,  7.3890561 , 20.08553692, 54.59815003])"
      ]
     },
     "metadata": {},
     "output_type": "display_data"
    }
   ],
   "source": [
    "# Mathematical operations on arrays are defined as elementwise operation between arrays.\n",
    "# If we have an operation between a number and an array, then we treat that number as the\n",
    "# array of the similar shape filled with it in entries.\n",
    "# If it is impossible to spread out the operation from one array to the other (shapes not\n",
    "# fitting), then we get an error.\n",
    "\n",
    "display(np.array([5, 6, 7, 8])/np.array([1, 2, 3, 4])) # Two arrays of the same shape\n",
    "\n",
    "display(-4 * rand_array) # Array and a scalar\n",
    "\n",
    "display(rand_array**2)\n",
    "\n",
    "# additionally, we may pass numpy arrays onto numpy (and other) mathematical functions.\n",
    "display(np.dot(np.array([1, 2, 3, 4]), \n",
    "               np.random.random(4)))\n",
    "display(np.exp(np.array([1, 2, 3, 4])))"
   ]
  },
  {
   "cell_type": "code",
   "execution_count": 61,
   "id": "3c050490",
   "metadata": {},
   "outputs": [
    {
     "data": {
      "text/plain": [
       "array([[0.43211121, 0.17421526, 0.17094369, 0.82763225],\n",
       "       [0.58717126, 0.45935375, 0.82268476, 0.82154811],\n",
       "       [0.30712025, 0.20089438, 0.40323246, 0.94788933],\n",
       "       [0.67754443, 0.6089751 , 0.67236337, 0.00798261],\n",
       "       [0.33655992, 0.35727233, 0.48605999, 0.87828242],\n",
       "       [0.75490869, 0.63046494, 0.37648369, 0.59016159]])"
      ]
     },
     "execution_count": 61,
     "metadata": {},
     "output_type": "execute_result"
    }
   ],
   "source": [
    "# Indexing multidimensional arrays in numpy is a bit more involved than in python, but we\n",
    "# will look at how it works for 2D arrays and extrapolate from that.\n",
    "\n",
    "rand_array_2d = rand_array.reshape((6, 4)) # Reshapes our 24 element one dimensional array\n",
    "                                           # into a 2 dimensional 6 by 4 array\n",
    "\n",
    "rand_array_2d"
   ]
  },
  {
   "cell_type": "code",
   "execution_count": 65,
   "id": "2a7087c3",
   "metadata": {},
   "outputs": [
    {
     "data": {
      "text/plain": [
       "0.17421526319883063"
      ]
     },
     "metadata": {},
     "output_type": "display_data"
    },
    {
     "data": {
      "text/plain": [
       "0.17421526319883063"
      ]
     },
     "metadata": {},
     "output_type": "display_data"
    }
   ],
   "source": [
    "# We can index through this by using the same indexing as in lists, but for numpy we should\n",
    "# try to use this tupled indexing:\n",
    "\n",
    "display(rand_array_2d[0, 1]) # == rand_array_2d[0][1] == rand_array[1]\n",
    "\n",
    "display(rand_array_2d[(0, 1)])"
   ]
  },
  {
   "cell_type": "code",
   "execution_count": 69,
   "id": "9b2fc3cf",
   "metadata": {},
   "outputs": [
    {
     "data": {
      "text/plain": [
       "array([0.30712025, 0.20089438, 0.40323246, 0.94788933])"
      ]
     },
     "metadata": {},
     "output_type": "display_data"
    },
    {
     "data": {
      "text/plain": [
       "array([0.94788933, 0.40323246, 0.20089438, 0.30712025])"
      ]
     },
     "metadata": {},
     "output_type": "display_data"
    },
    {
     "data": {
      "text/plain": [
       "array([[0.82763225, 0.17094369, 0.17421526, 0.43211121],\n",
       "       [0.00798261, 0.67236337, 0.6089751 , 0.67754443]])"
      ]
     },
     "metadata": {},
     "output_type": "display_data"
    }
   ],
   "source": [
    "display(rand_array_2d[2, :]) # the third (index 2) row in its entirety\n",
    "\n",
    "display(rand_array_2d[2, ::-1]) # the third row reversed\n",
    "\n",
    "display(rand_array_2d[::3, ::-1]) # first and fourth rows, reversed"
   ]
  },
  {
   "cell_type": "code",
   "execution_count": 74,
   "id": "9c46f3cc",
   "metadata": {},
   "outputs": [
    {
     "data": {
      "text/plain": [
       "array([0.82763225, 0.82268476, 0.82154811, 0.94788933, 0.87828242,\n",
       "       0.75490869])"
      ]
     },
     "metadata": {},
     "output_type": "display_data"
    },
    {
     "data": {
      "text/plain": [
       "(array([0, 1, 1, 2, 4, 5]), array([3, 2, 3, 3, 3, 0]))"
      ]
     },
     "metadata": {},
     "output_type": "display_data"
    },
    {
     "data": {
      "text/plain": [
       "array([0.82763225, 0.82268476, 0.82154811, 0.94788933, 0.87828242,\n",
       "       0.75490869])"
      ]
     },
     "metadata": {},
     "output_type": "display_data"
    },
    {
     "data": {
      "text/plain": [
       "array([0.82763225])"
      ]
     },
     "metadata": {},
     "output_type": "display_data"
    }
   ],
   "source": [
    "display(rand_array_2d[rand_array_2d > 0.7]) # this gives us a 1 dimensional array of elems\n",
    "\n",
    "display(np.where(rand_array_2d > 0.7)) # recover exact indices from this\n",
    "display(rand_array_2d[np.where(rand_array_2d > 0.7)])\n",
    "\n",
    "display(rand_array_2d[0, rand_array[:4] > 0.6]) # we can use Boolean indexing in individual\n",
    "                                                # indices and in the entire tuple too."
   ]
  },
  {
   "cell_type": "code",
   "execution_count": 75,
   "id": "5032ac06",
   "metadata": {},
   "outputs": [
    {
     "data": {
      "text/plain": [
       "array([0.73732874, 0.59614645, 0.09247963, 0.40227096, 0.5896865 ,\n",
       "       0.11541288, 0.38819426, 0.05976145, 0.58395785, 0.1667254 ])"
      ]
     },
     "metadata": {},
     "output_type": "display_data"
    },
    {
     "data": {
      "text/plain": [
       "array([0.34809538, 0.42189912, 0.24947387, 0.7699528 , 0.55131022,\n",
       "       0.02629206, 0.77097582, 0.09321751, 0.7027962 , 0.57953883])"
      ]
     },
     "metadata": {},
     "output_type": "display_data"
    },
    {
     "data": {
      "text/plain": [
       "array([0.73732874, 0.59614645, 0.09247963, 0.40227096, 0.5896865 ,\n",
       "       0.11541288, 0.38819426, 0.05976145, 0.58395785, 0.1667254 ,\n",
       "       0.34809538, 0.42189912, 0.24947387, 0.7699528 , 0.55131022,\n",
       "       0.02629206, 0.77097582, 0.09321751, 0.7027962 , 0.57953883])"
      ]
     },
     "metadata": {},
     "output_type": "display_data"
    }
   ],
   "source": [
    "# Since the arithmetic operations are defined for numpy arrays, concatenation is performed\n",
    "# through numpy.concatenate to which we pass a tuple (A1, A2, ..., An) of arrays we would\n",
    "# like to concatenate, in the order that we need.\n",
    "\n",
    "random_array1 = np.random.random(10)\n",
    "random_array2 = np.random.random(10)\n",
    "\n",
    "display(random_array1)\n",
    "display(random_array2)\n",
    "\n",
    "combined = np.concatenate((random_array1,\n",
    "                           random_array2))\n",
    "\n",
    "display(combined)"
   ]
  }
 ],
 "metadata": {
  "kernelspec": {
   "display_name": "Python 3 (ipykernel)",
   "language": "python",
   "name": "python3"
  },
  "language_info": {
   "codemirror_mode": {
    "name": "ipython",
    "version": 3
   },
   "file_extension": ".py",
   "mimetype": "text/x-python",
   "name": "python",
   "nbconvert_exporter": "python",
   "pygments_lexer": "ipython3",
   "version": "3.10.3"
  }
 },
 "nbformat": 4,
 "nbformat_minor": 5
}
